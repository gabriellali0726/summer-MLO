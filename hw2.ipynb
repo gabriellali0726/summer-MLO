{
  "nbformat": 4,
  "nbformat_minor": 0,
  "metadata": {
    "colab": {
      "provenance": []
    },
    "kernelspec": {
      "name": "python3",
      "display_name": "Python 3"
    },
    "language_info": {
      "name": "python"
    }
  },
  "cells": [
    {
      "cell_type": "code",
      "execution_count": null,
      "metadata": {
        "colab": {
          "base_uri": "https://localhost:8080/"
        },
        "id": "jGeZM9lZ73BO",
        "outputId": "9f0e9388-0226-46f3-cf09-c6285e7487ab"
      },
      "outputs": [
        {
          "output_type": "stream",
          "name": "stdout",
          "text": [
            "Requirement already satisfied: mlflow in /usr/local/lib/python3.11/dist-packages (3.1.1)\n",
            "Requirement already satisfied: codecarbon in /usr/local/lib/python3.11/dist-packages (3.0.2)\n",
            "Requirement already satisfied: scikit-learn in /usr/local/lib/python3.11/dist-packages (1.6.1)\n",
            "Requirement already satisfied: pandas in /usr/local/lib/python3.11/dist-packages (2.2.2)\n",
            "Requirement already satisfied: mlflow-skinny==3.1.1 in /usr/local/lib/python3.11/dist-packages (from mlflow) (3.1.1)\n",
            "Requirement already satisfied: Flask<4 in /usr/local/lib/python3.11/dist-packages (from mlflow) (3.1.1)\n",
            "Requirement already satisfied: alembic!=1.10.0,<2 in /usr/local/lib/python3.11/dist-packages (from mlflow) (1.16.4)\n",
            "Requirement already satisfied: docker<8,>=4.0.0 in /usr/local/lib/python3.11/dist-packages (from mlflow) (7.1.0)\n",
            "Requirement already satisfied: graphene<4 in /usr/local/lib/python3.11/dist-packages (from mlflow) (3.4.3)\n",
            "Requirement already satisfied: gunicorn<24 in /usr/local/lib/python3.11/dist-packages (from mlflow) (23.0.0)\n",
            "Requirement already satisfied: matplotlib<4 in /usr/local/lib/python3.11/dist-packages (from mlflow) (3.10.0)\n",
            "Requirement already satisfied: numpy<3 in /usr/local/lib/python3.11/dist-packages (from mlflow) (1.24.4)\n",
            "Requirement already satisfied: pyarrow<21,>=4.0.0 in /usr/local/lib/python3.11/dist-packages (from mlflow) (17.0.0)\n",
            "Requirement already satisfied: scipy<2 in /usr/local/lib/python3.11/dist-packages (from mlflow) (1.15.3)\n",
            "Requirement already satisfied: sqlalchemy<3,>=1.4.0 in /usr/local/lib/python3.11/dist-packages (from mlflow) (2.0.41)\n",
            "Requirement already satisfied: cachetools<7,>=5.0.0 in /usr/local/lib/python3.11/dist-packages (from mlflow-skinny==3.1.1->mlflow) (5.5.2)\n",
            "Requirement already satisfied: click<9,>=7.0 in /usr/local/lib/python3.11/dist-packages (from mlflow-skinny==3.1.1->mlflow) (8.2.1)\n",
            "Requirement already satisfied: cloudpickle<4 in /usr/local/lib/python3.11/dist-packages (from mlflow-skinny==3.1.1->mlflow) (3.1.1)\n",
            "Requirement already satisfied: databricks-sdk<1,>=0.20.0 in /usr/local/lib/python3.11/dist-packages (from mlflow-skinny==3.1.1->mlflow) (0.58.0)\n",
            "Requirement already satisfied: fastapi<1 in /usr/local/lib/python3.11/dist-packages (from mlflow-skinny==3.1.1->mlflow) (0.116.0)\n",
            "Requirement already satisfied: gitpython<4,>=3.1.9 in /usr/local/lib/python3.11/dist-packages (from mlflow-skinny==3.1.1->mlflow) (3.1.44)\n",
            "Requirement already satisfied: importlib_metadata!=4.7.0,<9,>=3.7.0 in /usr/local/lib/python3.11/dist-packages (from mlflow-skinny==3.1.1->mlflow) (8.7.0)\n",
            "Requirement already satisfied: opentelemetry-api<3,>=1.9.0 in /usr/local/lib/python3.11/dist-packages (from mlflow-skinny==3.1.1->mlflow) (1.35.0)\n",
            "Requirement already satisfied: opentelemetry-sdk<3,>=1.9.0 in /usr/local/lib/python3.11/dist-packages (from mlflow-skinny==3.1.1->mlflow) (1.35.0)\n",
            "Requirement already satisfied: packaging<26 in /usr/local/lib/python3.11/dist-packages (from mlflow-skinny==3.1.1->mlflow) (24.2)\n",
            "Requirement already satisfied: protobuf<7,>=3.12.0 in /usr/local/lib/python3.11/dist-packages (from mlflow-skinny==3.1.1->mlflow) (5.29.5)\n",
            "Requirement already satisfied: pydantic<3,>=1.10.8 in /usr/local/lib/python3.11/dist-packages (from mlflow-skinny==3.1.1->mlflow) (2.10.6)\n",
            "Requirement already satisfied: pyyaml<7,>=5.1 in /usr/local/lib/python3.11/dist-packages (from mlflow-skinny==3.1.1->mlflow) (6.0.2)\n",
            "Requirement already satisfied: requests<3,>=2.17.3 in /usr/local/lib/python3.11/dist-packages (from mlflow-skinny==3.1.1->mlflow) (2.32.3)\n",
            "Requirement already satisfied: sqlparse<1,>=0.4.0 in /usr/local/lib/python3.11/dist-packages (from mlflow-skinny==3.1.1->mlflow) (0.5.3)\n",
            "Requirement already satisfied: typing-extensions<5,>=4.0.0 in /usr/local/lib/python3.11/dist-packages (from mlflow-skinny==3.1.1->mlflow) (4.14.1)\n",
            "Requirement already satisfied: uvicorn<1 in /usr/local/lib/python3.11/dist-packages (from mlflow-skinny==3.1.1->mlflow) (0.34.0)\n",
            "Requirement already satisfied: arrow in /usr/local/lib/python3.11/dist-packages (from codecarbon) (1.3.0)\n",
            "Requirement already satisfied: fief-client[cli] in /usr/local/lib/python3.11/dist-packages (from codecarbon) (0.20.0)\n",
            "Requirement already satisfied: prometheus-client in /usr/local/lib/python3.11/dist-packages (from codecarbon) (0.22.1)\n",
            "Requirement already satisfied: psutil>=6.0.0 in /usr/local/lib/python3.11/dist-packages (from codecarbon) (7.0.0)\n",
            "Requirement already satisfied: py-cpuinfo in /usr/local/lib/python3.11/dist-packages (from codecarbon) (9.0.0)\n",
            "Requirement already satisfied: pynvml in /usr/local/lib/python3.11/dist-packages (from codecarbon) (12.0.0)\n",
            "Requirement already satisfied: questionary in /usr/local/lib/python3.11/dist-packages (from codecarbon) (2.1.0)\n",
            "Requirement already satisfied: rapidfuzz in /usr/local/lib/python3.11/dist-packages (from codecarbon) (3.13.0)\n",
            "Requirement already satisfied: rich in /usr/local/lib/python3.11/dist-packages (from codecarbon) (13.9.4)\n",
            "Requirement already satisfied: typer in /usr/local/lib/python3.11/dist-packages (from codecarbon) (0.16.0)\n",
            "Requirement already satisfied: joblib>=1.2.0 in /usr/local/lib/python3.11/dist-packages (from scikit-learn) (1.5.1)\n",
            "Requirement already satisfied: threadpoolctl>=3.1.0 in /usr/local/lib/python3.11/dist-packages (from scikit-learn) (3.6.0)\n",
            "Requirement already satisfied: python-dateutil>=2.8.2 in /usr/local/lib/python3.11/dist-packages (from pandas) (2.9.0.post0)\n",
            "Requirement already satisfied: pytz>=2020.1 in /usr/local/lib/python3.11/dist-packages (from pandas) (2025.2)\n",
            "Requirement already satisfied: tzdata>=2022.7 in /usr/local/lib/python3.11/dist-packages (from pandas) (2025.2)\n",
            "Requirement already satisfied: Mako in /usr/lib/python3/dist-packages (from alembic!=1.10.0,<2->mlflow) (1.1.3)\n",
            "Requirement already satisfied: urllib3>=1.26.0 in /usr/local/lib/python3.11/dist-packages (from docker<8,>=4.0.0->mlflow) (2.4.0)\n",
            "Requirement already satisfied: blinker>=1.9.0 in /usr/local/lib/python3.11/dist-packages (from Flask<4->mlflow) (1.9.0)\n",
            "Requirement already satisfied: itsdangerous>=2.2.0 in /usr/local/lib/python3.11/dist-packages (from Flask<4->mlflow) (2.2.0)\n",
            "Requirement already satisfied: jinja2>=3.1.2 in /usr/local/lib/python3.11/dist-packages (from Flask<4->mlflow) (3.1.6)\n",
            "Requirement already satisfied: markupsafe>=2.1.1 in /usr/local/lib/python3.11/dist-packages (from Flask<4->mlflow) (3.0.2)\n",
            "Requirement already satisfied: werkzeug>=3.1.0 in /usr/local/lib/python3.11/dist-packages (from Flask<4->mlflow) (3.1.3)\n",
            "Requirement already satisfied: graphql-core<3.3,>=3.1 in /usr/local/lib/python3.11/dist-packages (from graphene<4->mlflow) (3.2.6)\n",
            "Requirement already satisfied: graphql-relay<3.3,>=3.1 in /usr/local/lib/python3.11/dist-packages (from graphene<4->mlflow) (3.2.0)\n",
            "Requirement already satisfied: contourpy>=1.0.1 in /usr/local/lib/python3.11/dist-packages (from matplotlib<4->mlflow) (1.3.2)\n",
            "Requirement already satisfied: cycler>=0.10 in /usr/local/lib/python3.11/dist-packages (from matplotlib<4->mlflow) (0.12.1)\n",
            "Requirement already satisfied: fonttools>=4.22.0 in /usr/local/lib/python3.11/dist-packages (from matplotlib<4->mlflow) (4.58.5)\n",
            "Requirement already satisfied: kiwisolver>=1.3.1 in /usr/local/lib/python3.11/dist-packages (from matplotlib<4->mlflow) (1.4.8)\n",
            "Requirement already satisfied: pillow>=8 in /usr/local/lib/python3.11/dist-packages (from matplotlib<4->mlflow) (11.2.1)\n",
            "Requirement already satisfied: pyparsing>=2.3.1 in /usr/local/lib/python3.11/dist-packages (from matplotlib<4->mlflow) (3.2.3)\n",
            "Requirement already satisfied: annotated-types>=0.6.0 in /usr/local/lib/python3.11/dist-packages (from pydantic<3,>=1.10.8->mlflow-skinny==3.1.1->mlflow) (0.7.0)\n",
            "Requirement already satisfied: pydantic-core==2.27.2 in /usr/local/lib/python3.11/dist-packages (from pydantic<3,>=1.10.8->mlflow-skinny==3.1.1->mlflow) (2.27.2)\n",
            "Requirement already satisfied: six>=1.5 in /usr/local/lib/python3.11/dist-packages (from python-dateutil>=2.8.2->pandas) (1.17.0)\n",
            "Requirement already satisfied: charset-normalizer<4,>=2 in /usr/local/lib/python3.11/dist-packages (from requests<3,>=2.17.3->mlflow-skinny==3.1.1->mlflow) (3.4.2)\n",
            "Requirement already satisfied: idna<4,>=2.5 in /usr/local/lib/python3.11/dist-packages (from requests<3,>=2.17.3->mlflow-skinny==3.1.1->mlflow) (3.10)\n",
            "Requirement already satisfied: certifi>=2017.4.17 in /usr/local/lib/python3.11/dist-packages (from requests<3,>=2.17.3->mlflow-skinny==3.1.1->mlflow) (2025.7.9)\n",
            "Requirement already satisfied: greenlet>=1 in /usr/local/lib/python3.11/dist-packages (from sqlalchemy<3,>=1.4.0->mlflow) (3.2.3)\n",
            "Requirement already satisfied: types-python-dateutil>=2.8.10 in /usr/local/lib/python3.11/dist-packages (from arrow->codecarbon) (2.9.0.20250708)\n",
            "Requirement already satisfied: httpx<0.28.0,>=0.21.3 in /usr/local/lib/python3.11/dist-packages (from fief-client[cli]->codecarbon) (0.27.2)\n",
            "Requirement already satisfied: jwcrypto<2.0.0,>=1.4 in /usr/local/lib/python3.11/dist-packages (from fief-client[cli]->codecarbon) (1.5.6)\n",
            "Requirement already satisfied: yaspin in /usr/local/lib/python3.11/dist-packages (from fief-client[cli]->codecarbon) (3.1.0)\n",
            "Requirement already satisfied: nvidia-ml-py<13.0.0a0,>=12.0.0 in /usr/local/lib/python3.11/dist-packages (from pynvml->codecarbon) (12.575.51)\n",
            "Requirement already satisfied: prompt_toolkit<4.0,>=2.0 in /usr/local/lib/python3.11/dist-packages (from questionary->codecarbon) (3.0.51)\n",
            "Requirement already satisfied: markdown-it-py>=2.2.0 in /usr/local/lib/python3.11/dist-packages (from rich->codecarbon) (3.0.0)\n",
            "Requirement already satisfied: pygments<3.0.0,>=2.13.0 in /usr/local/lib/python3.11/dist-packages (from rich->codecarbon) (2.19.2)\n",
            "Requirement already satisfied: shellingham>=1.3.0 in /usr/local/lib/python3.11/dist-packages (from typer->codecarbon) (1.5.4)\n",
            "Requirement already satisfied: google-auth~=2.0 in /usr/local/lib/python3.11/dist-packages (from databricks-sdk<1,>=0.20.0->mlflow-skinny==3.1.1->mlflow) (2.38.0)\n",
            "Requirement already satisfied: starlette<0.47.0,>=0.40.0 in /usr/local/lib/python3.11/dist-packages (from fastapi<1->mlflow-skinny==3.1.1->mlflow) (0.46.2)\n",
            "Requirement already satisfied: gitdb<5,>=4.0.1 in /usr/local/lib/python3.11/dist-packages (from gitpython<4,>=3.1.9->mlflow-skinny==3.1.1->mlflow) (4.0.12)\n",
            "Requirement already satisfied: anyio in /usr/local/lib/python3.11/dist-packages (from httpx<0.28.0,>=0.21.3->fief-client[cli]->codecarbon) (4.9.0)\n",
            "Requirement already satisfied: httpcore==1.* in /usr/local/lib/python3.11/dist-packages (from httpx<0.28.0,>=0.21.3->fief-client[cli]->codecarbon) (1.0.9)\n",
            "Requirement already satisfied: sniffio in /usr/local/lib/python3.11/dist-packages (from httpx<0.28.0,>=0.21.3->fief-client[cli]->codecarbon) (1.3.1)\n",
            "Requirement already satisfied: h11>=0.16 in /usr/local/lib/python3.11/dist-packages (from httpcore==1.*->httpx<0.28.0,>=0.21.3->fief-client[cli]->codecarbon) (0.16.0)\n",
            "Requirement already satisfied: zipp>=3.20 in /usr/local/lib/python3.11/dist-packages (from importlib_metadata!=4.7.0,<9,>=3.7.0->mlflow-skinny==3.1.1->mlflow) (3.23.0)\n",
            "Requirement already satisfied: cryptography>=3.4 in /usr/local/lib/python3.11/dist-packages (from jwcrypto<2.0.0,>=1.4->fief-client[cli]->codecarbon) (43.0.3)\n",
            "Requirement already satisfied: mdurl~=0.1 in /usr/local/lib/python3.11/dist-packages (from markdown-it-py>=2.2.0->rich->codecarbon) (0.1.2)\n",
            "Requirement already satisfied: opentelemetry-semantic-conventions==0.56b0 in /usr/local/lib/python3.11/dist-packages (from opentelemetry-sdk<3,>=1.9.0->mlflow-skinny==3.1.1->mlflow) (0.56b0)\n",
            "Requirement already satisfied: wcwidth in /usr/local/lib/python3.11/dist-packages (from prompt_toolkit<4.0,>=2.0->questionary->codecarbon) (0.2.13)\n",
            "Requirement already satisfied: termcolor<2.4.0,>=2.2.0 in /usr/local/lib/python3.11/dist-packages (from yaspin->fief-client[cli]->codecarbon) (2.3.0)\n",
            "Requirement already satisfied: cffi>=1.12 in /usr/local/lib/python3.11/dist-packages (from cryptography>=3.4->jwcrypto<2.0.0,>=1.4->fief-client[cli]->codecarbon) (1.17.1)\n",
            "Requirement already satisfied: smmap<6,>=3.0.1 in /usr/local/lib/python3.11/dist-packages (from gitdb<5,>=4.0.1->gitpython<4,>=3.1.9->mlflow-skinny==3.1.1->mlflow) (5.0.2)\n",
            "Requirement already satisfied: pyasn1-modules>=0.2.1 in /usr/local/lib/python3.11/dist-packages (from google-auth~=2.0->databricks-sdk<1,>=0.20.0->mlflow-skinny==3.1.1->mlflow) (0.4.2)\n",
            "Requirement already satisfied: rsa<5,>=3.1.4 in /usr/local/lib/python3.11/dist-packages (from google-auth~=2.0->databricks-sdk<1,>=0.20.0->mlflow-skinny==3.1.1->mlflow) (4.9.1)\n",
            "Requirement already satisfied: pycparser in /usr/local/lib/python3.11/dist-packages (from cffi>=1.12->cryptography>=3.4->jwcrypto<2.0.0,>=1.4->fief-client[cli]->codecarbon) (2.22)\n",
            "Requirement already satisfied: pyasn1<0.7.0,>=0.6.1 in /usr/local/lib/python3.11/dist-packages (from pyasn1-modules>=0.2.1->google-auth~=2.0->databricks-sdk<1,>=0.20.0->mlflow-skinny==3.1.1->mlflow) (0.6.1)\n",
            "Requirement already satisfied: numpy==1.24.4 in /usr/local/lib/python3.11/dist-packages (1.24.4)\n"
          ]
        }
      ],
      "source": [
        "!pip install mlflow codecarbon scikit-learn pandas\n",
        "!pip install numpy==1.24.4\n"
      ]
    },
    {
      "cell_type": "code",
      "source": [
        "!pip -q install feast scikit-learn pandas matplotlib seaborn codecarbon"
      ],
      "metadata": {
        "colab": {
          "base_uri": "https://localhost:8080/"
        },
        "id": "NHjibdQO-R2I",
        "outputId": "b5a516ec-ed54-4c2c-e499-240c95071ea8"
      },
      "execution_count": null,
      "outputs": [
        {
          "output_type": "stream",
          "name": "stdout",
          "text": [
            "\u001b[2K   \u001b[90m━━━━━━━━━━━━━━━━━━━━━━━━━━━━━━━━━━━━━━━━\u001b[0m \u001b[32m7.3/7.3 MB\u001b[0m \u001b[31m59.8 MB/s\u001b[0m eta \u001b[36m0:00:00\u001b[0m\n",
            "\u001b[2K   \u001b[90m━━━━━━━━━━━━━━━━━━━━━━━━━━━━━━━━━━━━━━━━\u001b[0m \u001b[32m431.7/431.7 kB\u001b[0m \u001b[31m30.8 MB/s\u001b[0m eta \u001b[36m0:00:00\u001b[0m\n",
            "\u001b[2K   \u001b[90m━━━━━━━━━━━━━━━━━━━━━━━━━━━━━━━━━━━━━━━━\u001b[0m \u001b[32m62.3/62.3 kB\u001b[0m \u001b[31m4.2 MB/s\u001b[0m eta \u001b[36m0:00:00\u001b[0m\n",
            "\u001b[2K   \u001b[90m━━━━━━━━━━━━━━━━━━━━━━━━━━━━━━━━━━━━━━━━\u001b[0m \u001b[32m2.0/2.0 MB\u001b[0m \u001b[31m46.3 MB/s\u001b[0m eta \u001b[36m0:00:00\u001b[0m\n",
            "\u001b[2K   \u001b[90m━━━━━━━━━━━━━━━━━━━━━━━━━━━━━━━━━━━━━━━━\u001b[0m \u001b[32m277.7/277.7 kB\u001b[0m \u001b[31m18.4 MB/s\u001b[0m eta \u001b[36m0:00:00\u001b[0m\n",
            "\u001b[2K   \u001b[90m━━━━━━━━━━━━━━━━━━━━━━━━━━━━━━━━━━━━━━━━\u001b[0m \u001b[32m105.3/105.3 kB\u001b[0m \u001b[31m7.0 MB/s\u001b[0m eta \u001b[36m0:00:00\u001b[0m\n",
            "\u001b[2K   \u001b[90m━━━━━━━━━━━━━━━━━━━━━━━━━━━━━━━━━━━━━━━━\u001b[0m \u001b[32m278.0/278.0 kB\u001b[0m \u001b[31m18.7 MB/s\u001b[0m eta \u001b[36m0:00:00\u001b[0m\n",
            "\u001b[2K   \u001b[90m━━━━━━━━━━━━━━━━━━━━━━━━━━━━━━━━━━━━━━━━\u001b[0m \u001b[32m39.9/39.9 MB\u001b[0m \u001b[31m23.4 MB/s\u001b[0m eta \u001b[36m0:00:00\u001b[0m\n",
            "\u001b[2K   \u001b[90m━━━━━━━━━━━━━━━━━━━━━━━━━━━━━━━━━━━━━━━━\u001b[0m \u001b[32m66.4/66.4 kB\u001b[0m \u001b[31m3.4 MB/s\u001b[0m eta \u001b[36m0:00:00\u001b[0m\n",
            "\u001b[2K   \u001b[90m━━━━━━━━━━━━━━━━━━━━━━━━━━━━━━━━━━━━━━━━\u001b[0m \u001b[32m85.0/85.0 kB\u001b[0m \u001b[31m5.1 MB/s\u001b[0m eta \u001b[36m0:00:00\u001b[0m\n",
            "\u001b[2K   \u001b[90m━━━━━━━━━━━━━━━━━━━━━━━━━━━━━━━━━━━━━━━━\u001b[0m \u001b[32m101.6/101.6 kB\u001b[0m \u001b[31m6.4 MB/s\u001b[0m eta \u001b[36m0:00:00\u001b[0m\n",
            "\u001b[2K   \u001b[90m━━━━━━━━━━━━━━━━━━━━━━━━━━━━━━━━━━━━━━━━\u001b[0m \u001b[32m3.1/3.1 MB\u001b[0m \u001b[31m70.5 MB/s\u001b[0m eta \u001b[36m0:00:00\u001b[0m\n",
            "\u001b[2K   \u001b[90m━━━━━━━━━━━━━━━━━━━━━━━━━━━━━━━━━━━━━━━━\u001b[0m \u001b[32m459.8/459.8 kB\u001b[0m \u001b[31m24.3 MB/s\u001b[0m eta \u001b[36m0:00:00\u001b[0m\n",
            "\u001b[2K   \u001b[90m━━━━━━━━━━━━━━━━━━━━━━━━━━━━━━━━━━━━━━━━\u001b[0m \u001b[32m76.4/76.4 kB\u001b[0m \u001b[31m4.8 MB/s\u001b[0m eta \u001b[36m0:00:00\u001b[0m\n",
            "\u001b[2K   \u001b[90m━━━━━━━━━━━━━━━━━━━━━━━━━━━━━━━━━━━━━━━━\u001b[0m \u001b[32m92.5/92.5 kB\u001b[0m \u001b[31m5.2 MB/s\u001b[0m eta \u001b[36m0:00:00\u001b[0m\n",
            "\u001b[2K   \u001b[90m━━━━━━━━━━━━━━━━━━━━━━━━━━━━━━━━━━━━━━━━\u001b[0m \u001b[32m12.6/12.6 MB\u001b[0m \u001b[31m80.1 MB/s\u001b[0m eta \u001b[36m0:00:00\u001b[0m\n",
            "\u001b[2K   \u001b[90m━━━━━━━━━━━━━━━━━━━━━━━━━━━━━━━━━━━━━━━━\u001b[0m \u001b[32m4.0/4.0 MB\u001b[0m \u001b[31m77.4 MB/s\u001b[0m eta \u001b[36m0:00:00\u001b[0m\n",
            "\u001b[2K   \u001b[90m━━━━━━━━━━━━━━━━━━━━━━━━━━━━━━━━━━━━━━━━\u001b[0m \u001b[32m453.1/453.1 kB\u001b[0m \u001b[31m22.3 MB/s\u001b[0m eta \u001b[36m0:00:00\u001b[0m\n",
            "\u001b[?25h\u001b[31mERROR: pip's dependency resolver does not currently take into account all the packages that are installed. This behaviour is the source of the following dependency conflicts.\n",
            "google-genai 1.25.0 requires httpx<1.0.0,>=0.28.1, but you have httpx 0.27.2 which is incompatible.\n",
            "firebase-admin 6.9.0 requires httpx[http2]==0.28.1, but you have httpx 0.27.2 which is incompatible.\u001b[0m\u001b[31m\n",
            "\u001b[0m"
          ]
        }
      ]
    },
    {
      "cell_type": "markdown",
      "source": [
        "1. Data Prep"
      ],
      "metadata": {
        "id": "qy9GFU-U7rpB"
      }
    },
    {
      "cell_type": "code",
      "source": [
        "import pandas as pd\n",
        "import numpy as np\n",
        "data = pd.read_csv('/athletes.csv')\n"
      ],
      "metadata": {
        "id": "HFBrjZU4tNHk"
      },
      "execution_count": null,
      "outputs": []
    },
    {
      "cell_type": "code",
      "source": [
        "import os\n",
        "print(\"当前工作目录:\", os.getcwd())\n",
        "print(\"该目录下的文件列表:\", os.listdir())\n"
      ],
      "metadata": {
        "colab": {
          "base_uri": "https://localhost:8080/"
        },
        "id": "sHHNFtpB7umT",
        "outputId": "7be08f8f-5044-427c-a841-109e12c3a794"
      },
      "execution_count": null,
      "outputs": [
        {
          "output_type": "stream",
          "name": "stdout",
          "text": [
            "当前工作目录: /content\n",
            "该目录下的文件列表: ['.config', 'sample_data']\n"
          ]
        }
      ]
    },
    {
      "cell_type": "code",
      "source": [
        "  # Remove not relevant columns\n",
        "data = data.dropna(subset=['region','age','weight','height','howlong','gender','eat',\n",
        "                               'train','background','experience','schedule','howlong',\n",
        "                               'deadlift','candj','snatch','backsq','experience',\n",
        "                               'background','schedule','howlong'])\n",
        "data = data.drop(columns=['affiliate','team','name','athlete_id','fran','helen','grace',\n",
        "                              'filthy50','fgonebad','run400','run5k','pullups','train'])\n",
        "\n",
        "    # Remove Outliers\n",
        "\n",
        "data = data[data['weight'] < 1500]\n",
        "data = data[data['gender'] != '--']\n",
        "data = data[data['age'] >= 18]\n",
        "data = data[(data['height'] < 96) & (data['height'] > 48)]\n",
        "\n",
        "data = data[(data['deadlift'] > 0) & (data['deadlift'] <= 1105)|((data['gender'] == 'Female')\n",
        "                 & (data['deadlift'] <= 636))]\n",
        "data = data[(data['candj'] > 0) & (data['candj'] <= 395)]\n",
        "data = data[(data['snatch'] > 0) & (data['snatch'] <= 496)]\n",
        "data = data[(data['backsq'] > 0) & (data['backsq'] <= 1069)]\n",
        "\n",
        "    # Clean Survey Data\n",
        "\n",
        "decline_dict = {'Decline to answer|': np.nan}\n",
        "data = data.replace(decline_dict)\n",
        "data = data.dropna(subset=['background','experience','schedule','howlong','eat'])"
      ],
      "metadata": {
        "id": "KTFLUcnA8n3-"
      },
      "execution_count": null,
      "outputs": []
    },
    {
      "cell_type": "code",
      "source": [
        "lift_cols = ['candj', 'snatch', 'deadlift', 'backsq']\n",
        "data['total_lift'] = data[lift_cols].sum(axis=1)\n",
        "target = 'total_lift'\n",
        "\n",
        "features = ['gender', 'age', 'height', 'weight', 'candj', 'snatch', 'deadlift', 'backsq', 'region']\n",
        "data_model = data[features + [target]].copy()\n",
        "\n",
        "print(data_model.head())\n",
        "\n",
        "data.to_parquet(\"athletes_data.parquet\")\n",
        "data.to_csv(\"athletes_data.csv\")\n",
        "print(\"Saved processed data as both CSV and Parquet formats\")\n"
      ],
      "metadata": {
        "colab": {
          "base_uri": "https://localhost:8080/"
        },
        "id": "8qBQ0OXt80kF",
        "outputId": "b45ec279-74b7-42dc-e8a0-b46709edfc61"
      },
      "execution_count": null,
      "outputs": [
        {
          "output_type": "stream",
          "name": "stdout",
          "text": [
            "   gender   age  height  weight  candj  snatch  deadlift  backsq  \\\n",
            "21   Male  30.0    71.0   200.0  235.0   175.0     385.0   315.0   \n",
            "22   Male  28.0    70.0   176.0  187.0   134.0     335.0   254.0   \n",
            "27   Male  35.0    68.0   225.0  285.0   205.0     440.0   405.0   \n",
            "50   Male  36.0    71.0   199.0  267.0   212.0     485.0   390.0   \n",
            "60   Male  36.0    64.0   155.0  245.0   180.0     415.0   385.0   \n",
            "\n",
            "                 region  total_lift  \n",
            "21  Southern California      1110.0  \n",
            "22               Africa       910.0  \n",
            "27           North East      1335.0  \n",
            "50        North Central      1354.0  \n",
            "60           North East      1225.0  \n",
            "Saved processed data as both CSV and Parquet formats\n"
          ]
        }
      ]
    },
    {
      "cell_type": "markdown",
      "source": [
        "2. Two different versions of features"
      ],
      "metadata": {
        "id": "RpmW-4s79BBl"
      }
    },
    {
      "cell_type": "code",
      "source": [
        "%%writefile feature_repo/feature_definition.py\n",
        "\n",
        "from feast import FeatureView, FileSource, Entity, Field\n",
        "from feast.types import Float32\n",
        "from datetime import timedelta\n",
        "\n",
        "file_source = FileSource(\n",
        "    path=\"/content/athletes_data.parquet\",\n",
        "    timestamp_field=\"event_timestamp\",\n",
        ")\n",
        "\n",
        "\n",
        "athlete = Entity(name=\"athlete_id\", join_keys=[\"athlete_id\"])\n",
        "\n",
        "\n",
        "athlete_strength_view = FeatureView(\n",
        "    name=\"athlete_strength_view\",\n",
        "    entities=[athlete],\n",
        "    ttl=timedelta(days=30),\n",
        "    schema=[\n",
        "        Field(name=\"squat\", dtype=Float32),\n",
        "        Field(name=\"bench\", dtype=Float32),\n",
        "        Field(name=\"deadlift\", dtype=Float32),\n",
        "    ],\n",
        "    online=True,\n",
        "    source=file_source,\n",
        ")\n",
        "\n",
        "athlete_olympic_view = FeatureView(\n",
        "    name=\"athlete_olympic_view\",\n",
        "    entities=[athlete],\n",
        "    ttl=timedelta(days=30),\n",
        "    schema=[\n",
        "        Field(name=\"snatch\", dtype=Float32),\n",
        "        Field(name=\"clean\", dtype=Float32),\n",
        "        Field(name=\"jerk\", dtype=Float32),\n",
        "    ],\n",
        "    online=True,\n",
        "    source=file_source,\n",
        ")\n"
      ],
      "metadata": {
        "colab": {
          "base_uri": "https://localhost:8080/"
        },
        "id": "iXLrIIxt-L6T",
        "outputId": "468cf937-b9ef-48d5-c88a-1f2bd9a36ec3"
      },
      "execution_count": null,
      "outputs": [
        {
          "output_type": "stream",
          "name": "stdout",
          "text": [
            "Writing feature_repo/feature_definition.py\n"
          ]
        }
      ]
    },
    {
      "cell_type": "code",
      "source": [
        "!mkdir -p feature_repo\n"
      ],
      "metadata": {
        "id": "86OLjtiV_4PU"
      },
      "execution_count": null,
      "outputs": []
    },
    {
      "cell_type": "code",
      "source": [
        "%%writefile feature_repo/feature_store.yaml\n",
        "project: feature_repo\n",
        "registry: data/registry.db\n",
        "provider: local\n",
        "online_store:\n",
        "    type: sqlite\n",
        "    path: data/online_store.db\n"
      ],
      "metadata": {
        "id": "ofgzBd8B-379",
        "colab": {
          "base_uri": "https://localhost:8080/"
        },
        "outputId": "3edc268d-940e-4d08-e5ef-a2a51cbea3ed"
      },
      "execution_count": null,
      "outputs": [
        {
          "output_type": "stream",
          "name": "stdout",
          "text": [
            "Overwriting feature_repo/feature_store.yaml\n"
          ]
        }
      ]
    },
    {
      "cell_type": "code",
      "source": [
        "!cd feature_repo && feast apply\n"
      ],
      "metadata": {
        "colab": {
          "base_uri": "https://localhost:8080/"
        },
        "id": "0mojTMTD_7m7",
        "outputId": "4181366a-94d6-4ce0-a701-84f84f5c09e7"
      },
      "execution_count": null,
      "outputs": [
        {
          "output_type": "stream",
          "name": "stdout",
          "text": [
            "2025-07-16 20:52:19.719051: E external/local_xla/xla/stream_executor/cuda/cuda_fft.cc:477] Unable to register cuFFT factory: Attempting to register factory for plugin cuFFT when one has already been registered\n",
            "WARNING: All log messages before absl::InitializeLog() is called are written to STDERR\n",
            "E0000 00:00:1752699139.757907    6129 cuda_dnn.cc:8310] Unable to register cuDNN factory: Attempting to register factory for plugin cuDNN when one has already been registered\n",
            "E0000 00:00:1752699139.770110    6129 cuda_blas.cc:1418] Unable to register cuBLAS factory: Attempting to register factory for plugin cuBLAS when one has already been registered\n",
            "/content/feature_repo/feature_definition.py:13: DeprecationWarning: Entity value_type will be mandatory in the next release. Please specify a value_type for entity 'athlete_id'.\n",
            "  athlete = Entity(name=\"athlete_id\", join_keys=[\"athlete_id\"])\n",
            "No project found in the repository. Using project name feature_repo defined in feature_store.yaml\n",
            "Applying changes for project feature_repo\n",
            "/usr/local/lib/python3.11/dist-packages/feast/feature_view.py:443: UserWarning: There are some mismatches in your feature view: athlete_olympic_view registered entities. Please check if you have applied your entities correctly.Entities: ['athlete_id'] vs Entity Columns: []\n",
            "  warnings.warn(\n",
            "/usr/local/lib/python3.11/dist-packages/feast/feature_view.py:443: UserWarning: There are some mismatches in your feature view: athlete_strength_view registered entities. Please check if you have applied your entities correctly.Entities: ['athlete_id'] vs Entity Columns: []\n",
            "  warnings.warn(\n",
            "Created entity \u001b[1m\u001b[32mathlete_id\u001b[0m\n",
            "Created feature view \u001b[1m\u001b[32mathlete_strength_view\u001b[0m\n",
            "Created feature view \u001b[1m\u001b[32mathlete_olympic_view\u001b[0m\n",
            "\n",
            "Created sqlite table \u001b[1m\u001b[32mfeature_repo_athlete_olympic_view\u001b[0m\n",
            "Created sqlite table \u001b[1m\u001b[32mfeature_repo_athlete_strength_view\u001b[0m\n",
            "\n"
          ]
        }
      ]
    },
    {
      "cell_type": "code",
      "source": [],
      "metadata": {
        "id": "xx-1a1xKAG-0"
      },
      "execution_count": null,
      "outputs": []
    },
    {
      "cell_type": "markdown",
      "source": [
        "3. Generate training dataset"
      ],
      "metadata": {
        "id": "Bs61uw40dP03"
      }
    },
    {
      "cell_type": "code",
      "source": [
        "import pandas as pd\n",
        "\n",
        "df = pd.read_parquet(\"/content/athletes_data.parquet\").dropna()\n",
        "\n",
        "# Feature version 1: Olympic lifts\n",
        "features_v1 = df[[\"candj\", \"snatch\", \"total_lift\"]]\n",
        "\n",
        "# Feature version 2: Powerlifting + body\n",
        "features_v2 = df[[\"deadlift\", \"backsq\", \"weight\", \"height\"]]\n",
        "\n",
        "target = (df[\"gender\"] == \"Male\").astype(int)\n",
        "\n"
      ],
      "metadata": {
        "id": "nlhT5Rofdku9"
      },
      "execution_count": 4,
      "outputs": []
    },
    {
      "cell_type": "code",
      "source": [
        "from sklearn.linear_model import LogisticRegression\n",
        "from sklearn.model_selection import train_test_split\n",
        "from sklearn.metrics import accuracy_score\n",
        "\n",
        "experiment_log = []\n",
        "\n",
        "def train_with_tracking(X, y, feature_version, hp_version, penalty=\"l2\", C=1.0):\n",
        "    from codecarbon import EmissionsTracker\n",
        "    from sklearn.linear_model import LogisticRegression\n",
        "    from sklearn.model_selection import train_test_split\n",
        "    from sklearn.metrics import accuracy_score\n",
        "\n",
        "    tracker = EmissionsTracker()\n",
        "    tracker.start()\n",
        "\n",
        "    X_train, X_test, y_train, y_test = train_test_split(X, y, test_size=0.2, random_state=42)\n",
        "    model = LogisticRegression(penalty=penalty, C=C, solver=\"liblinear\")\n",
        "    model.fit(X_train, y_train)\n",
        "    preds = model.predict(X_test)\n",
        "    acc = accuracy_score(y_test, preds)\n",
        "\n",
        "    emissions = tracker.stop()\n",
        "\n",
        "\n",
        "    experiment_log.append({\n",
        "        \"run_name\": f\"{feature_version}_{hp_version}\",\n",
        "        \"feature_version\": feature_version,\n",
        "        \"hyperparameters\": hp_version,\n",
        "        \"accuracy\": acc,\n",
        "        \"emissions_kg\": emissions\n",
        "    })\n",
        "\n",
        "    return acc, emissions\n"
      ],
      "metadata": {
        "id": "xDRHsTyPhbxa"
      },
      "execution_count": 8,
      "outputs": []
    },
    {
      "cell_type": "code",
      "source": [
        "train_with_tracking(features_v1, target, feature_version=\"v1\", hp_version=\"hp1\", penalty=\"l2\", C=1.0)\n",
        "train_with_tracking(features_v1, target, feature_version=\"v1\", hp_version=\"hp2\", penalty=\"l1\", C=0.1)\n",
        "train_with_tracking(features_v2, target, feature_version=\"v2\", hp_version=\"hp1\", penalty=\"l2\", C=1.0)\n",
        "train_with_tracking(features_v2, target, feature_version=\"v2\", hp_version=\"hp2\", penalty=\"l1\", C=0.1)\n",
        "\n",
        "\n",
        "print(\"V1 + (l2, C=1.0):\", acc1)\n",
        "print(\"V1 + (l1, C=0.1):\", acc2)\n",
        "print(\"V2 + (l2, C=1.0):\", acc3)\n",
        "print(\"V2 + (l1, C=0.1):\", acc4)\n"
      ],
      "metadata": {
        "colab": {
          "base_uri": "https://localhost:8080/"
        },
        "id": "nQA-gufqhhsa",
        "outputId": "718d12e1-fd06-490b-b1fa-a5696f3bfda8"
      },
      "execution_count": 9,
      "outputs": [
        {
          "output_type": "stream",
          "name": "stderr",
          "text": [
            "[codecarbon WARNING @ 04:10:25] Multiple instances of codecarbon are allowed to run at the same time.\n",
            "[codecarbon INFO @ 04:10:25] [setup] RAM Tracking...\n",
            "[codecarbon INFO @ 04:10:25] [setup] CPU Tracking...\n",
            "[codecarbon WARNING @ 04:10:26] We saw that you have a Intel(R) Xeon(R) CPU @ 2.20GHz but we don't know it. Please contact us.\n",
            "[codecarbon WARNING @ 04:10:26] No CPU tracking mode found. Falling back on estimation based on TDP for CPU. \n",
            " Linux OS detected: Please ensure RAPL files exist at /sys/class/powercap/intel-rapl/subsystem to measure CPU\n",
            "\n",
            "[codecarbon INFO @ 04:10:26] CPU Model on constant consumption mode: Intel(R) Xeon(R) CPU @ 2.20GHz\n",
            "[codecarbon WARNING @ 04:10:26] No CPU tracking mode found. Falling back on CPU constant mode.\n",
            "[codecarbon INFO @ 04:10:26] [setup] GPU Tracking...\n",
            "[codecarbon INFO @ 04:10:26] No GPU found.\n",
            "[codecarbon INFO @ 04:10:26] The below tracking methods have been set up:\n",
            "                RAM Tracking Method: RAM power estimation model\n",
            "                CPU Tracking Method: global constant\n",
            "                GPU Tracking Method: Unspecified\n",
            "            \n",
            "[codecarbon INFO @ 04:10:26] >>> Tracker's metadata:\n",
            "[codecarbon INFO @ 04:10:26]   Platform system: Linux-6.1.123+-x86_64-with-glibc2.35\n",
            "[codecarbon INFO @ 04:10:26]   Python version: 3.11.13\n",
            "[codecarbon INFO @ 04:10:26]   CodeCarbon version: 3.0.4\n",
            "[codecarbon INFO @ 04:10:26]   Available RAM : 12.674 GB\n",
            "[codecarbon INFO @ 04:10:26]   CPU count: 2 thread(s) in 1 physical CPU(s)\n",
            "[codecarbon INFO @ 04:10:26]   CPU model: Intel(R) Xeon(R) CPU @ 2.20GHz\n",
            "[codecarbon INFO @ 04:10:26]   GPU count: None\n",
            "[codecarbon INFO @ 04:10:26]   GPU model: None\n",
            "[codecarbon INFO @ 04:10:27] Emissions data (if any) will be saved to file /content/emissions.csv\n",
            "[codecarbon INFO @ 04:10:27] Energy consumed for RAM : 0.000001 kWh. RAM Power : 10.0 W\n",
            "[codecarbon INFO @ 04:10:27] Delta energy consumed for CPU with constant : 0.000002 kWh, power : 42.5 W\n",
            "[codecarbon INFO @ 04:10:27] Energy consumed for All CPU : 0.000002 kWh\n",
            "[codecarbon INFO @ 04:10:27] 0.000003 kWh of electricity used since the beginning.\n",
            "[codecarbon WARNING @ 04:10:27] Multiple instances of codecarbon are allowed to run at the same time.\n",
            "[codecarbon INFO @ 04:10:27] [setup] RAM Tracking...\n",
            "[codecarbon INFO @ 04:10:27] [setup] CPU Tracking...\n",
            "[codecarbon WARNING @ 04:10:28] We saw that you have a Intel(R) Xeon(R) CPU @ 2.20GHz but we don't know it. Please contact us.\n",
            "[codecarbon WARNING @ 04:10:28] No CPU tracking mode found. Falling back on estimation based on TDP for CPU. \n",
            " Linux OS detected: Please ensure RAPL files exist at /sys/class/powercap/intel-rapl/subsystem to measure CPU\n",
            "\n",
            "[codecarbon INFO @ 04:10:28] CPU Model on constant consumption mode: Intel(R) Xeon(R) CPU @ 2.20GHz\n",
            "[codecarbon WARNING @ 04:10:28] No CPU tracking mode found. Falling back on CPU constant mode.\n",
            "[codecarbon INFO @ 04:10:28] [setup] GPU Tracking...\n",
            "[codecarbon INFO @ 04:10:28] No GPU found.\n",
            "[codecarbon INFO @ 04:10:28] The below tracking methods have been set up:\n",
            "                RAM Tracking Method: RAM power estimation model\n",
            "                CPU Tracking Method: global constant\n",
            "                GPU Tracking Method: Unspecified\n",
            "            \n",
            "[codecarbon INFO @ 04:10:28] >>> Tracker's metadata:\n",
            "[codecarbon INFO @ 04:10:28]   Platform system: Linux-6.1.123+-x86_64-with-glibc2.35\n",
            "[codecarbon INFO @ 04:10:28]   Python version: 3.11.13\n",
            "[codecarbon INFO @ 04:10:28]   CodeCarbon version: 3.0.4\n",
            "[codecarbon INFO @ 04:10:28]   Available RAM : 12.674 GB\n",
            "[codecarbon INFO @ 04:10:28]   CPU count: 2 thread(s) in 1 physical CPU(s)\n",
            "[codecarbon INFO @ 04:10:28]   CPU model: Intel(R) Xeon(R) CPU @ 2.20GHz\n",
            "[codecarbon INFO @ 04:10:28]   GPU count: None\n",
            "[codecarbon INFO @ 04:10:28]   GPU model: None\n",
            "[codecarbon INFO @ 04:10:29] Emissions data (if any) will be saved to file /content/emissions.csv\n",
            "[codecarbon INFO @ 04:10:29] Energy consumed for RAM : 0.000002 kWh. RAM Power : 10.0 W\n",
            "[codecarbon INFO @ 04:10:29] Delta energy consumed for CPU with constant : 0.000008 kWh, power : 42.5 W\n",
            "[codecarbon INFO @ 04:10:29] Energy consumed for All CPU : 0.000008 kWh\n",
            "[codecarbon INFO @ 04:10:29] 0.000010 kWh of electricity used since the beginning.\n",
            "[codecarbon WARNING @ 04:10:29] Multiple instances of codecarbon are allowed to run at the same time.\n",
            "[codecarbon INFO @ 04:10:29] [setup] RAM Tracking...\n",
            "[codecarbon INFO @ 04:10:29] [setup] CPU Tracking...\n",
            "[codecarbon WARNING @ 04:10:31] We saw that you have a Intel(R) Xeon(R) CPU @ 2.20GHz but we don't know it. Please contact us.\n",
            "[codecarbon WARNING @ 04:10:31] No CPU tracking mode found. Falling back on estimation based on TDP for CPU. \n",
            " Linux OS detected: Please ensure RAPL files exist at /sys/class/powercap/intel-rapl/subsystem to measure CPU\n",
            "\n",
            "[codecarbon INFO @ 04:10:31] CPU Model on constant consumption mode: Intel(R) Xeon(R) CPU @ 2.20GHz\n",
            "[codecarbon WARNING @ 04:10:31] No CPU tracking mode found. Falling back on CPU constant mode.\n",
            "[codecarbon INFO @ 04:10:31] [setup] GPU Tracking...\n",
            "[codecarbon INFO @ 04:10:31] No GPU found.\n",
            "[codecarbon INFO @ 04:10:31] The below tracking methods have been set up:\n",
            "                RAM Tracking Method: RAM power estimation model\n",
            "                CPU Tracking Method: global constant\n",
            "                GPU Tracking Method: Unspecified\n",
            "            \n",
            "[codecarbon INFO @ 04:10:31] >>> Tracker's metadata:\n",
            "[codecarbon INFO @ 04:10:31]   Platform system: Linux-6.1.123+-x86_64-with-glibc2.35\n",
            "[codecarbon INFO @ 04:10:31]   Python version: 3.11.13\n",
            "[codecarbon INFO @ 04:10:31]   CodeCarbon version: 3.0.4\n",
            "[codecarbon INFO @ 04:10:31]   Available RAM : 12.674 GB\n",
            "[codecarbon INFO @ 04:10:31]   CPU count: 2 thread(s) in 1 physical CPU(s)\n",
            "[codecarbon INFO @ 04:10:31]   CPU model: Intel(R) Xeon(R) CPU @ 2.20GHz\n",
            "[codecarbon INFO @ 04:10:31]   GPU count: None\n",
            "[codecarbon INFO @ 04:10:31]   GPU model: None\n",
            "[codecarbon INFO @ 04:10:31] Emissions data (if any) will be saved to file /content/emissions.csv\n",
            "[codecarbon INFO @ 04:10:31] Energy consumed for RAM : 0.000001 kWh. RAM Power : 10.0 W\n",
            "[codecarbon INFO @ 04:10:31] Delta energy consumed for CPU with constant : 0.000004 kWh, power : 42.5 W\n",
            "[codecarbon INFO @ 04:10:31] Energy consumed for All CPU : 0.000004 kWh\n",
            "[codecarbon INFO @ 04:10:31] 0.000005 kWh of electricity used since the beginning.\n",
            "[codecarbon WARNING @ 04:10:31] Multiple instances of codecarbon are allowed to run at the same time.\n",
            "[codecarbon INFO @ 04:10:31] [setup] RAM Tracking...\n",
            "[codecarbon INFO @ 04:10:31] [setup] CPU Tracking...\n",
            "[codecarbon WARNING @ 04:10:34] We saw that you have a Intel(R) Xeon(R) CPU @ 2.20GHz but we don't know it. Please contact us.\n",
            "[codecarbon WARNING @ 04:10:34] No CPU tracking mode found. Falling back on estimation based on TDP for CPU. \n",
            " Linux OS detected: Please ensure RAPL files exist at /sys/class/powercap/intel-rapl/subsystem to measure CPU\n",
            "\n",
            "[codecarbon INFO @ 04:10:34] CPU Model on constant consumption mode: Intel(R) Xeon(R) CPU @ 2.20GHz\n",
            "[codecarbon WARNING @ 04:10:34] No CPU tracking mode found. Falling back on CPU constant mode.\n",
            "[codecarbon INFO @ 04:10:34] [setup] GPU Tracking...\n",
            "[codecarbon INFO @ 04:10:34] No GPU found.\n",
            "[codecarbon INFO @ 04:10:34] The below tracking methods have been set up:\n",
            "                RAM Tracking Method: RAM power estimation model\n",
            "                CPU Tracking Method: global constant\n",
            "                GPU Tracking Method: Unspecified\n",
            "            \n",
            "[codecarbon INFO @ 04:10:34] >>> Tracker's metadata:\n",
            "[codecarbon INFO @ 04:10:34]   Platform system: Linux-6.1.123+-x86_64-with-glibc2.35\n",
            "[codecarbon INFO @ 04:10:34]   Python version: 3.11.13\n",
            "[codecarbon INFO @ 04:10:34]   CodeCarbon version: 3.0.4\n",
            "[codecarbon INFO @ 04:10:34]   Available RAM : 12.674 GB\n",
            "[codecarbon INFO @ 04:10:34]   CPU count: 2 thread(s) in 1 physical CPU(s)\n",
            "[codecarbon INFO @ 04:10:34]   CPU model: Intel(R) Xeon(R) CPU @ 2.20GHz\n",
            "[codecarbon INFO @ 04:10:34]   GPU count: None\n",
            "[codecarbon INFO @ 04:10:34]   GPU model: None\n",
            "[codecarbon INFO @ 04:10:34] Emissions data (if any) will be saved to file /content/emissions.csv\n",
            "[codecarbon INFO @ 04:10:36] Energy consumed for RAM : 0.000005 kWh. RAM Power : 10.0 W\n",
            "[codecarbon INFO @ 04:10:36] Delta energy consumed for CPU with constant : 0.000022 kWh, power : 42.5 W\n",
            "[codecarbon INFO @ 04:10:36] Energy consumed for All CPU : 0.000022 kWh\n",
            "[codecarbon INFO @ 04:10:36] 0.000027 kWh of electricity used since the beginning.\n"
          ]
        },
        {
          "output_type": "stream",
          "name": "stdout",
          "text": [
            "V1 + (l2, C=1.0): 0.9067599067599068\n",
            "V1 + (l1, C=0.1): 0.9074259074259075\n",
            "V2 + (l2, C=1.0): 0.9368964368964369\n",
            "V2 + (l1, C=0.1): 0.9417249417249417\n"
          ]
        }
      ]
    },
    {
      "cell_type": "markdown",
      "source": [
        "4. Model Comparison"
      ],
      "metadata": {
        "id": "zyMca-7mmS59"
      }
    },
    {
      "cell_type": "code",
      "source": [
        "import pandas as pd\n",
        "results_df = pd.DataFrame(experiment_log)\n",
        "\n",
        "print(\"\\n——— Quantitative Experiment Results Table ——\")\n",
        "print(results_df)\n"
      ],
      "metadata": {
        "colab": {
          "base_uri": "https://localhost:8080/"
        },
        "id": "9OJQAwdak_MN",
        "outputId": "8ec0da3f-822f-4013-afd4-7a4d01f6122c"
      },
      "execution_count": 10,
      "outputs": [
        {
          "output_type": "stream",
          "name": "stdout",
          "text": [
            "\n",
            "——— Quantitative Experiment Results Table ——\n",
            "  run_name feature_version hyperparameters  accuracy  emissions_kg\n",
            "0   v1_hp1              v1             hp1  0.906760      0.000001\n",
            "1   v1_hp2              v1             hp2  0.907426      0.000005\n",
            "2   v2_hp1              v2             hp1  0.936896      0.000002\n",
            "3   v2_hp2              v2             hp2  0.941725      0.000012\n"
          ]
        }
      ]
    },
    {
      "cell_type": "code",
      "source": [
        "import matplotlib.pyplot as plt\n",
        "\n",
        "\n",
        "fig, ax1 = plt.subplots(figsize=(10, 5))\n",
        "\n",
        "bar_width = 0.35\n",
        "x = range(len(results_df))\n",
        "\n",
        "# Accuracy bars\n",
        "ax1.bar(x, results_df[\"accuracy\"], width=bar_width, label=\"Accuracy\", color=\"skyblue\")\n",
        "ax1.set_ylabel(\"Accuracy\", color=\"skyblue\")\n",
        "ax1.set_ylim(0.85, 1.0)\n",
        "\n",
        "# Emissions bars (second y-axis)\n",
        "ax2 = ax1.twinx()\n",
        "ax2.bar([i + bar_width for i in x], results_df[\"emissions_kg\"], width=bar_width, label=\"Emissions (kg)\", color=\"lightcoral\")\n",
        "ax2.set_ylabel(\"Emissions (kg CO₂)\", color=\"lightcoral\")\n",
        "\n",
        "# X ticks\n",
        "combined_labels = results_df[\"run_name\"]\n",
        "plt.xticks([i + bar_width/2 for i in x], combined_labels)\n",
        "\n",
        "plt.title(\"Accuracy vs Carbon Emissions Comparison\")\n",
        "fig.tight_layout()\n",
        "plt.show()\n",
        "\n"
      ],
      "metadata": {
        "colab": {
          "base_uri": "https://localhost:8080/",
          "height": 507
        },
        "id": "2zJUOTIWglX-",
        "outputId": "f9f9dd79-a885-4978-f549-0eb9f5c4d975"
      },
      "execution_count": 11,
      "outputs": [
        {
          "output_type": "display_data",
          "data": {
            "text/plain": [
              "<Figure size 1000x500 with 2 Axes>"
            ],
            "image/png": "[encoded data removed]"
          },
          "metadata": {}
        }
      ]
    },
    {
      "cell_type": "code",
      "source": [
        "from sklearn.linear_model import LogisticRegression\n",
        "\n",
        "# features_v1\n",
        "model_v1 = LogisticRegression(penalty=\"l2\", C=1.0, solver=\"liblinear\")\n",
        "model_v1.fit(features_v1, target)\n",
        "importance_v1 = model_v1.coef_[0]\n",
        "feature_names_v1 = features_v1.columns\n",
        "\n",
        "# features_v2\n",
        "model_v2 = LogisticRegression(penalty=\"l2\", C=1.0, solver=\"liblinear\")\n",
        "model_v2.fit(features_v2, target)\n",
        "importance_v2 = model_v2.coef_[0]\n",
        "feature_names_v2 = features_v2.columns\n"
      ],
      "metadata": {
        "id": "lRWfqeS7igVO"
      },
      "execution_count": 12,
      "outputs": []
    },
    {
      "cell_type": "code",
      "source": [
        "# V1\n",
        "plt.figure(figsize=(6, 4))\n",
        "plt.barh(feature_names_v1, importance_v1)\n",
        "plt.title(\"Feature Importance - Model V1\")\n",
        "plt.xlabel(\"Coefficient Value\")\n",
        "plt.grid(axis='x', linestyle='--', alpha=0.6)\n",
        "plt.tight_layout()\n",
        "plt.show()\n",
        "\n",
        "# V2\n",
        "plt.figure(figsize=(6, 4))\n",
        "plt.barh(feature_names_v2, importance_v2)\n",
        "plt.title(\"Feature Importance - Model V2\")\n",
        "plt.xlabel(\"Coefficient Value\")\n",
        "plt.grid(axis='x', linestyle='--', alpha=0.6)\n",
        "plt.tight_layout()\n",
        "plt.show()\n"
      ],
      "metadata": {
        "colab": {
          "base_uri": "https://localhost:8080/",
          "height": 797
        },
        "id": "xPflw5BfnIFO",
        "outputId": "40258b83-4a9f-4201-cdc8-59a1deee8a4e"
      },
      "execution_count": 13,
      "outputs": [
        {
          "output_type": "display_data",
          "data": {
            "text/plain": [
              "<Figure size 600x400 with 1 Axes>"
            ],
            "image/png": "[encoded data removed]"
          },
          "metadata": {}
        },
        {
          "output_type": "display_data",
          "data": {
            "text/plain": [
              "<Figure size 600x400 with 1 Axes>"
            ],
            "image/png": "[encoded data removed]"
          },
          "metadata": {}
        }
      ]
    },
    {
      "cell_type": "code",
      "source": [],
      "metadata": {
        "id": "U_ARq_G2nSaA"
      },
      "execution_count": null,
      "outputs": []
    }
  ]
}