{
  "nbformat": 4,
  "nbformat_minor": 0,
  "metadata": {
    "colab": {
      "provenance": []
    },
    "kernelspec": {
      "name": "python3",
      "display_name": "Python 3"
    },
    "language_info": {
      "name": "python"
    }
  },
  "cells": [
    {
      "cell_type": "code",
      "execution_count": 15,
      "metadata": {
        "id": "UCgQtdND7ft7",
        "colab": {
          "base_uri": "https://localhost:8080/"
        },
        "outputId": "d39ed1ce-8e1a-4e35-bc5d-d1ded9fe8a2f"
      },
      "outputs": [
        {
          "output_type": "stream",
          "name": "stdout",
          "text": [
            "Requirement already satisfied: torch in /usr/local/lib/python3.11/dist-packages (2.6.0+cu124)\n",
            "Requirement already satisfied: torchvision in /usr/local/lib/python3.11/dist-packages (0.21.0+cu124)\n",
            "Requirement already satisfied: opacus in /usr/local/lib/python3.11/dist-packages (1.5.4)\n",
            "Requirement already satisfied: filelock in /usr/local/lib/python3.11/dist-packages (from torch) (3.18.0)\n",
            "Requirement already satisfied: typing-extensions>=4.10.0 in /usr/local/lib/python3.11/dist-packages (from torch) (4.14.0)\n",
            "Requirement already satisfied: networkx in /usr/local/lib/python3.11/dist-packages (from torch) (3.5)\n",
            "Requirement already satisfied: jinja2 in /usr/local/lib/python3.11/dist-packages (from torch) (3.1.6)\n",
            "Requirement already satisfied: fsspec in /usr/local/lib/python3.11/dist-packages (from torch) (2025.3.2)\n",
            "Requirement already satisfied: nvidia-cuda-nvrtc-cu12==12.4.127 in /usr/local/lib/python3.11/dist-packages (from torch) (12.4.127)\n",
            "Requirement already satisfied: nvidia-cuda-runtime-cu12==12.4.127 in /usr/local/lib/python3.11/dist-packages (from torch) (12.4.127)\n",
            "Requirement already satisfied: nvidia-cuda-cupti-cu12==12.4.127 in /usr/local/lib/python3.11/dist-packages (from torch) (12.4.127)\n",
            "Requirement already satisfied: nvidia-cudnn-cu12==9.1.0.70 in /usr/local/lib/python3.11/dist-packages (from torch) (9.1.0.70)\n",
            "Requirement already satisfied: nvidia-cublas-cu12==12.4.5.8 in /usr/local/lib/python3.11/dist-packages (from torch) (12.4.5.8)\n",
            "Requirement already satisfied: nvidia-cufft-cu12==11.2.1.3 in /usr/local/lib/python3.11/dist-packages (from torch) (11.2.1.3)\n",
            "Requirement already satisfied: nvidia-curand-cu12==10.3.5.147 in /usr/local/lib/python3.11/dist-packages (from torch) (10.3.5.147)\n",
            "Requirement already satisfied: nvidia-cusolver-cu12==11.6.1.9 in /usr/local/lib/python3.11/dist-packages (from torch) (11.6.1.9)\n",
            "Requirement already satisfied: nvidia-cusparse-cu12==12.3.1.170 in /usr/local/lib/python3.11/dist-packages (from torch) (12.3.1.170)\n",
            "Requirement already satisfied: nvidia-cusparselt-cu12==0.6.2 in /usr/local/lib/python3.11/dist-packages (from torch) (0.6.2)\n",
            "Requirement already satisfied: nvidia-nccl-cu12==2.21.5 in /usr/local/lib/python3.11/dist-packages (from torch) (2.21.5)\n",
            "Requirement already satisfied: nvidia-nvtx-cu12==12.4.127 in /usr/local/lib/python3.11/dist-packages (from torch) (12.4.127)\n",
            "Requirement already satisfied: nvidia-nvjitlink-cu12==12.4.127 in /usr/local/lib/python3.11/dist-packages (from torch) (12.4.127)\n",
            "Requirement already satisfied: triton==3.2.0 in /usr/local/lib/python3.11/dist-packages (from torch) (3.2.0)\n",
            "Requirement already satisfied: sympy==1.13.1 in /usr/local/lib/python3.11/dist-packages (from torch) (1.13.1)\n",
            "Requirement already satisfied: mpmath<1.4,>=1.1.0 in /usr/local/lib/python3.11/dist-packages (from sympy==1.13.1->torch) (1.3.0)\n",
            "Requirement already satisfied: numpy in /usr/local/lib/python3.11/dist-packages (from torchvision) (1.26.4)\n",
            "Requirement already satisfied: pillow!=8.3.*,>=5.3.0 in /usr/local/lib/python3.11/dist-packages (from torchvision) (11.2.1)\n",
            "Requirement already satisfied: scipy>=1.2 in /usr/local/lib/python3.11/dist-packages (from opacus) (1.15.3)\n",
            "Requirement already satisfied: opt-einsum>=3.3.0 in /usr/local/lib/python3.11/dist-packages (from opacus) (3.4.0)\n",
            "Requirement already satisfied: MarkupSafe>=2.0 in /usr/local/lib/python3.11/dist-packages (from jinja2->torch) (3.0.2)\n"
          ]
        }
      ],
      "source": [
        "!pip install torch torchvision opacus\n"
      ]
    },
    {
      "cell_type": "code",
      "source": [
        "import pandas as pd\n",
        "import numpy as np\n",
        "from sklearn.preprocessing import StandardScaler, OneHotEncoder\n",
        "from sklearn.model_selection import train_test_split\n",
        "from sklearn.metrics import mean_squared_error, r2_score\n",
        "\n",
        "import torch\n",
        "from torch import nn, optim\n",
        "from torch.utils.data import DataLoader, TensorDataset\n",
        "from opacus import PrivacyEngine\n"
      ],
      "metadata": {
        "id": "SmdaMAnB7hAa"
      },
      "execution_count": 2,
      "outputs": []
    },
    {
      "cell_type": "code",
      "source": [
        "import tensorflow_privacy\n",
        "\n",
        "from tensorflow_privacy.privacy.analysis import compute_dp_sgd_privacy\n"
      ],
      "metadata": {
        "id": "--JJmSGe7hCn"
      },
      "execution_count": null,
      "outputs": []
    },
    {
      "cell_type": "code",
      "source": [
        "# Load v2 data\n",
        "v2 = pd.read_csv(\"v2.csv\")\n",
        "\n",
        "# Clean\n",
        "v2_model = v2.dropna(subset=[\n",
        "    \"weight\", \"height\", \"age\", \"gender\", \"howlong\",\n",
        "    \"deadlift\", \"candj\", \"snatch\", \"backsq\"\n",
        "])\n",
        "\n",
        "v2_model[\"total_lift\"] = v2_model[[\"deadlift\", \"candj\", \"snatch\", \"backsq\"]].sum(axis=1)\n"
      ],
      "metadata": {
        "id": "nJwBdRuP7hEI"
      },
      "execution_count": 4,
      "outputs": []
    },
    {
      "cell_type": "code",
      "source": [
        "# Features: weight, height, age\n",
        "X = v2_model[[\"weight\", \"height\", \"age\"]].values\n",
        "y = v2_model[\"total_lift\"].values\n",
        "\n",
        "# Standardize\n",
        "scaler_X = StandardScaler()\n",
        "X_scaled = scaler_X.fit_transform(X)\n",
        "\n",
        "scaler_y = StandardScaler()\n",
        "y_scaled = scaler_y.fit_transform(y.reshape(-1,1)).ravel()\n",
        "\n",
        "X_train, X_test, y_train, y_test = train_test_split(\n",
        "    X_scaled, y_scaled, test_size=0.2, random_state=42\n",
        ")\n"
      ],
      "metadata": {
        "id": "mM8X1PcQ8krL"
      },
      "execution_count": 6,
      "outputs": []
    },
    {
      "cell_type": "code",
      "source": [
        "# Convert to tensors\n",
        "X_train_torch = torch.tensor(X_train, dtype=torch.float32)\n",
        "y_train_torch = torch.tensor(y_train.reshape(-1,1), dtype=torch.float32)\n",
        "X_test_torch = torch.tensor(X_test, dtype=torch.float32)\n",
        "y_test_torch = torch.tensor(y_test.reshape(-1,1), dtype=torch.float32)\n",
        "\n",
        "train_ds = TensorDataset(X_train_torch, y_train_torch)\n",
        "train_loader = DataLoader(train_ds, batch_size=32, shuffle=True)\n",
        "\n"
      ],
      "metadata": {
        "id": "HbqLzanZ8pdG"
      },
      "execution_count": 8,
      "outputs": []
    },
    {
      "cell_type": "code",
      "source": [
        "# Baseline Model (non-DP)\n",
        "model = nn.Sequential(\n",
        "    nn.Linear(X_train.shape[1], 32),\n",
        "    nn.ReLU(),\n",
        "    nn.Linear(32, 1)\n",
        ")\n",
        "\n",
        "optimizer = optim.SGD(model.parameters(), lr=0.01)\n",
        "criterion = nn.MSELoss()\n",
        "\n",
        "# Train baseline\n",
        "model.train()\n",
        "for epoch in range(5):\n",
        "    for Xb, yb in train_loader:\n",
        "        optimizer.zero_grad()\n",
        "        preds = model(Xb)\n",
        "        loss = criterion(preds, yb)\n",
        "        loss.backward()\n",
        "        optimizer.step()\n",
        "\n",
        "# Evaluate baseline\n",
        "model.eval()\n",
        "with torch.no_grad():\n",
        "    preds = model(X_test_torch).numpy().flatten()\n",
        "\n",
        "mse_non_dp = mean_squared_error(y_test, preds)\n",
        "r2_non_dp = r2_score(y_test, preds)\n",
        "\n",
        "print(\"Baseline Non-DP Model:\")\n",
        "print(f\"MSE: {mse_non_dp:.2f}\")\n",
        "print(f\"R2: {r2_non_dp:.2f}\")\n"
      ],
      "metadata": {
        "colab": {
          "base_uri": "https://localhost:8080/"
        },
        "id": "l5WElSBg-SqF",
        "outputId": "518d69c2-c1bd-4074-fa8d-bd6742fab75c"
      },
      "execution_count": 9,
      "outputs": [
        {
          "output_type": "stream",
          "name": "stdout",
          "text": [
            "Baseline Non-DP Model:\n",
            "MSE: 0.49\n",
            "R2: 0.51\n"
          ]
        }
      ]
    },
    {
      "cell_type": "code",
      "source": [
        "# DP Model\n",
        "model_dp = nn.Sequential(\n",
        "    nn.Linear(X_train.shape[1], 32),\n",
        "    nn.ReLU(),\n",
        "    nn.Linear(32, 1)\n",
        ")\n",
        "\n",
        "optimizer_dp = optim.SGD(model_dp.parameters(), lr=0.01)\n",
        "privacy_engine = PrivacyEngine()\n",
        "\n",
        "model_dp, optimizer_dp, train_loader_dp = privacy_engine.make_private(\n",
        "    module=model_dp,\n",
        "    optimizer=optimizer_dp,\n",
        "    data_loader=train_loader,\n",
        "    noise_multiplier=1.1,\n",
        "    max_grad_norm=1.0,\n",
        ")\n",
        "\n",
        "# Train DP\n",
        "model_dp.train()\n",
        "for epoch in range(5):\n",
        "    for Xb, yb in train_loader_dp:\n",
        "        optimizer_dp.zero_grad()\n",
        "        preds = model_dp(Xb)\n",
        "        loss = criterion(preds, yb)\n",
        "        loss.backward()\n",
        "        optimizer_dp.step()\n"
      ],
      "metadata": {
        "colab": {
          "base_uri": "https://localhost:8080/"
        },
        "id": "yzUDbsET-bDD",
        "outputId": "5e645065-83db-4ad6-cf79-99175448b2c1"
      },
      "execution_count": 10,
      "outputs": [
        {
          "output_type": "stream",
          "name": "stderr",
          "text": [
            "/usr/local/lib/python3.11/dist-packages/opacus/privacy_engine.py:96: UserWarning: Secure RNG turned off. This is perfectly fine for experimentation as it allows for much faster training performance, but remember to turn it on and retrain one last time before production with ``secure_mode`` turned on.\n",
            "  warnings.warn(\n"
          ]
        }
      ]
    },
    {
      "cell_type": "code",
      "source": [
        "# Evaluate DP\n",
        "model_dp.eval()\n",
        "with torch.no_grad():\n",
        "    preds_dp = model_dp(X_test_torch).numpy().flatten()\n",
        "\n",
        "mse_dp = mean_squared_error(y_test, preds_dp)\n",
        "r2_dp = r2_score(y_test, preds_dp)\n",
        "\n",
        "print(\"DP Model:\")\n",
        "print(f\"MSE: {mse_dp:.2f}\")\n",
        "print(f\"R2: {r2_dp:.2f}\")\n",
        "\n",
        "epsilon = privacy_engine.accountant.get_epsilon(delta=1e-5)\n",
        "print(f\"DP epsilon: {epsilon:.2f}, delta=1e-5\")"
      ],
      "metadata": {
        "colab": {
          "base_uri": "https://localhost:8080/"
        },
        "id": "1MURFCDU-i8T",
        "outputId": "493959a6-9715-47c2-cec3-1d0e3e6c4710"
      },
      "execution_count": 14,
      "outputs": [
        {
          "output_type": "stream",
          "name": "stdout",
          "text": [
            "DP Model:\n",
            "MSE: 0.52\n",
            "R2: 0.48\n",
            "DP epsilon: 0.34, delta=1e-5\n"
          ]
        }
      ]
    },
    {
      "cell_type": "code",
      "source": [],
      "metadata": {
        "id": "3Rt5sqpI-0MW"
      },
      "execution_count": null,
      "outputs": []
    }
  ]
}